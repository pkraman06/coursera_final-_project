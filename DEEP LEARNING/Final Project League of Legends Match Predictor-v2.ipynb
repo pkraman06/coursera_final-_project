{
  "metadata": {
    "kernelspec": {
      "name": "python",
      "display_name": "Python (Pyodide)",
      "language": "python"
    },
    "language_info": {
      "codemirror_mode": {
        "name": "python",
        "version": 3
      },
      "file_extension": ".py",
      "mimetype": "text/x-python",
      "name": "python",
      "nbconvert_exporter": "python",
      "pygments_lexer": "ipython3",
      "version": "3.8"
    },
    "prev_pub_hash": "3954a6768947e1337f1fbb623d47144c102fda57b5eb30076fea611e015e66ea"
  },
  "nbformat_minor": 4,
  "nbformat": 4,
  "cells": [
    {
      "cell_type": "markdown",
      "source": "<img src=\"https://cf-courses-data.s3.us.cloud-object-storage.appdomain.cloud/assets/logos/SN_web_lightmode.png\" height=300 width=300 />\n",
      "metadata": {}
    },
    {
      "cell_type": "markdown",
      "source": "# Final Project: League of Legends Match Predictor \n",
      "metadata": {}
    },
    {
      "cell_type": "markdown",
      "source": "### Introduction  \n\nLeague of Legends, a popular multiplayer online battle arena (MOBA) game, generates extensive data from matches, providing an excellent opportunity to apply machine learning techniques to real-world scenarios. Perform the following steps to build a logistic regression model aimed at predicting the outcomes of League of Legends matches.  \n\nUse the [league_of_legends_data_large.csv](https://cf-courses-data.s3.us.cloud-object-storage.appdomain.cloud/rk7VDaPjMp1h5VXS-cUyMg/league-of-legends-data-large.csv) file to perform the tasks.  \n\n### Step 1: Data Loading and Preprocessing  \n\n#### Task 1: Load the League of Legends dataset and preprocess it for training.  \n\nLoading and preprocessing the dataset involves reading the data, splitting it into training and testing sets, and standardizing the features. You will utilize `pandas` for data manipulation, `train_test_split` from `sklearn` for data splitting, and `StandardScaler` for feature scaling.  \n\nNote: Please ensure all the required libraries are installed and imported.\n\n1 .Load the dataset:\nUse `pd.read_csv()` to load the dataset into a pandas DataFrame.</br>\n2. Split data into features and target: Separate win (target) and the remaining columns (features).</br>\n   X = data.drop('win', axis=1)</br>\n   y = data['win'] </br>\n3 .Split the Data into Training and Testing Sets:\nUse `train_test_split()` from `sklearn.model_selection` to divide the data. Set `test_size`=0.2 to allocate 20% for testing and 80% for training, and use `random_state`=42 to ensure reproducibility of the split.</br>\n4. Standardize the features:\nUse `StandardScaler()` from sklearn.preprocessing to scale the features.</br>\n5. Convert to PyTorch tensors:\nUse `torch.tensor()` to convert the data to PyTorch tensors.\n\n#### Exercise 1:  \n\nWrite a code to load the dataset, split it into training and testing sets, standardize the features, and convert the data into PyTorch tensors for use in training a PyTorch model.  \n",
      "metadata": {}
    },
    {
      "cell_type": "markdown",
      "source": "### Setup\nInstalling required libraries:\n\nThe following required libraries are not pre-installed in the Skills Network Labs environment. You will need to run the following cell to install them:\n",
      "metadata": {}
    },
    {
      "cell_type": "code",
      "source": "!pip install pandas\n!pip install scikit-learn\n!pip install torch\n!pip install matplotlib\n",
      "metadata": {},
      "outputs": [],
      "execution_count": null
    },
    {
      "cell_type": "code",
      "source": "## Write your code here",
      "metadata": {},
      "outputs": [],
      "execution_count": null
    },
    {
      "cell_type": "markdown",
      "source": "### Step 2: Logistic Regression Model  \n\n#### Task 2: Implement a logistic regression model using PyTorch.  \n\nDefining the logistic regression model involves specifying the input dimensions, the forward pass using the sigmoid activation function, and initializing the model, loss function, and optimizer.  \n\n1 .Define the Logistic Regression Model:</br>\n  Create a class LogisticRegressionModel that inherits from torch.nn.Module.</br>\n - In the `__init__()` method, define a linear layer (nn.Linear) to implement the logistic regression model.</br>\n- The `forward()` method should apply the sigmoid activation function to the output of the linear layer.</br>\n\n2.Initialize the Model, Loss Function, and Optimizer:</br>\n- Set input_dim: Use `X_train.shape[1]` to get the number of features from the training data (X_train).</br>\n- Initialize the model: Create an instance of the LogisticRegressionModel class  (e.g., `model = LogisticRegressionModel()`)while passing input_dim as a parameter</br>\n- Loss Function: Use `BCELoss()` from torch.nn (Binary Cross-Entropy Loss).</br>\n- Optimizer: Initialize the optimizer using `optim.SGD()` with a learning rate of 0.01</br>\n\n#### Exercise 2:  \n\nDefine the logistic regression model using PyTorch, specifying the input dimensions and the forward pass. Initialize the model, loss function, and optimizer.  \n",
      "metadata": {}
    },
    {
      "cell_type": "code",
      "source": "## Write your code here\n\n\n",
      "metadata": {},
      "outputs": [],
      "execution_count": null
    },
    {
      "cell_type": "markdown",
      "source": "### Step 3: Model Training  \n\n#### Task 3: Train the logistic regression model on the dataset.  \n\nThe training loop will run for a specified number of epochs. In each epoch, the model makes predictions, calculates the loss, performs backpropagation, and updates the model parameters.\n\n1. Set Number of Epochs:  \n   - Define the number of epochs for training to 1000.\n\n2. Training Loop:  \n   For each epoch:\n   - Set the model to training mode using `model.train()`.\n   - Zero the gradients using `optimizer.zero_grad()`.\n   - Pass the training data (`X_train`) through the model to get the predictions (`outputs`).\n   - Calculate the loss using the defined loss function (`criterion`).\n   - Perform backpropagation with `loss.backward()`.\n   - Update the model's weights using `optimizer.step()`.\n\n3. Print Loss Every 100 Epochs:  \n   - After every 100 epochs, print the current epoch number and the loss value.\n\n4. Model Evaluation:  \n   - Set the model to evaluation mode using `model.eval()`.\n   - Use `torch.no_grad()` to ensure no gradients are calculated during evaluation.\n   - Get predictions on both the training set (`X_train`) and the test set (`X_test`).\n\n5. Calculate Accuracy:  \n   - For both the training and test datasets, compute the accuracy by comparing the predicted values with the true values (`y_train`, `y_test`).\n   - Use a threshold of 0.5 for classification\n   \n6. Print Accuracy:  \n   - Print the training and test accuracies after the evaluation is complete.\n\n#### Exercise 3:  \n\nWrite the code to train the logistic regression model on the dataset. Implement the training loop, making predictions, calculating the loss, performing backpropagation, and updating model parameters. Evaluate the model's accuracy on training and testing sets.  \n",
      "metadata": {}
    },
    {
      "cell_type": "code",
      "source": "# Write your code here\n\n",
      "metadata": {},
      "outputs": [],
      "execution_count": null
    },
    {
      "cell_type": "markdown",
      "source": "### Step 4: Model Optimization and Evaluation  \n\n#### Task 4: Implement optimization techniques and evaluate the model's performance.  \n\nOptimization techniques such as L2 regularization (Ridge Regression) help in preventing overfitting. The model is retrained with these optimizations, and its performance is evaluated on both training and testing sets. \n\n**Weight Decay** :In the context of machine learning and specifically in optimization algorithms, weight_decay is a parameter used to apply L2 regularization to the model's parameters (weights). It helps prevent the model from overfitting by penalizing large weight values, thereby encouraging the model to find simpler solutions.To use L2 regularization, you need to modify the optimizer by setting the weight_decay parameter. The weight_decay parameter in the optimizer adds the L2 regularization term during training.\nFor example, when you initialize the optimizer with optim.SGD(model.parameters(), lr=0.01, weight_decay=0.01), the weight_decay=0.01 term applies L2 regularization with a strength of 0.01.\n\n1. Set Up the Optimizer with L2 Regularization:\n   - Modify the optimizer to include `weight_decay` for L2 regularization.\n   - Example:\n     ```python\n     optimizer = optim.SGD(model.parameters(), lr=0.01, weight_decay=0.01)\n     ```\n2. Train the Model with L2 Regularization:\n    - Follow the same steps as before but use the updated optimizer with regularization during training.\n    - Use epochs=1000\n   \n3. Evaluate the Optimized Model:\n   - After training, evaluate the model on both the training and test datasets.\n   - Compute the accuracy for both sets by comparing the model's predictions to the true labels (`y_train` and `y_test`).\n\n4. Calculate and Print the Accuracy:\n   - Use a threshold of 0.5 to determine whether the model's predictions are class 0 or class 1.\n   - Print the training accuracy and test accuracy  after evaluation.\n\n\n#### Exercise 4:  \n\nImplement optimization techniques like L2 regularization and retrain the model. Evaluate the performance of the optimized model on both training and testing sets.  \n",
      "metadata": {}
    },
    {
      "cell_type": "code",
      "source": "## Write your code here",
      "metadata": {},
      "outputs": [],
      "execution_count": null
    },
    {
      "cell_type": "markdown",
      "source": "### Step 5: Visualization and Interpretation  \n\nVisualization tools like confusion matrices and ROC curves provide insights into the model's performance. The confusion matrix helps in understanding the classification accuracy, while the ROC curve illustrates the trade-off between sensitivity and specificity.\n\nConfusion Matrix : A Confusion Matrix is a fundamental tool used in classification problems to evaluate the performance of a model. It provides a matrix showing the number of correct and incorrect predictions made by the model, categorized by the actual and predicted classes.\nWhere \n-  True Positive (TP): Correctly predicted positive class (class 1).\n- True Negative (TN): Correctly predicted negative class (class 0).\n- False Positive (FP): Incorrectly predicted as positive (class 1), but the actual class is negative (class 0). This is also called a Type I error.\n- False Negative (FN): Incorrectly predicted as negative (class 0), but the actual class is positive (class 1). This is also called a Type II error. \n\nROC Curve (Receiver Operating Characteristic Curve):\nThe ROC Curve is a graphical representation used to evaluate the performance of a binary classification model across all classification thresholds. It plots two metrics:\n- True Positive Rate (TPR) or Recall (Sensitivity)-It is the proportion of actual positive instances (class 1) that were correctly classified as positive by the model.\n- False Positive Rate (FPR)-It is the proportion of actual negative instances (class 0) that were incorrectly classified as positive by the model.\n  \nAUC: \nAUC stands for Area Under the Curve and is a performance metric used to evaluate the quality of a binary classification model. Specifically, it refers to the area under the ROC curve (Receiver Operating Characteristic curve), which plots the True Positive Rate (TPR) versus the False Positive Rate (FPR) for different threshold values.\n\nClassification Report:\nA Classification Report is a summary of various classification metrics, which are useful for evaluating the performance of a classifier on the given dataset.\n\n#### Exercise 5:  \n\nWrite code to visualize the model's performance using confusion matrices and ROC curves. Generate classification reports to evaluate precision, recall, and F1-score. Retrain the model with L2 regularization and evaluate the performance.\n",
      "metadata": {}
    },
    {
      "cell_type": "code",
      "source": "## Write your code here\n\n",
      "metadata": {},
      "outputs": [],
      "execution_count": null
    },
    {
      "cell_type": "markdown",
      "source": "Double-click <b>here</b> for the Hint.\n<!-- \n\n#Change the name of variables as per your code\nimport matplotlib.pyplot as plt\nfrom sklearn.metrics import confusion_matrix, classification_report, roc_curve, auc\nimport itertools\n\n# Visualize the confusion matrix\n#Change the variable names as used in your code\ny_pred_test_labels = (y_pred_test > 0.5).float()\ncm = confusion_matrix(y_test, y_pred_test_labels)\n\nplt.figure(figsize=(6, 6))\nplt.imshow(cm, interpolation='nearest', cmap=plt.cm.Blues)\nplt.title('Confusion Matrix')\nplt.colorbar()\ntick_marks = range(2)\nplt.xticks(tick_marks, ['Loss', 'Win'], rotation=45)\nplt.yticks(tick_marks, ['Loss', 'Win'])\n\nthresh = cm.max() / 2\nfor i, j in itertools.product(range(cm.shape[0]), range(cm.shape[1])):\n    plt.text(j, i, cm[i, j], horizontalalignment=\"center\", color=\"white\" if cm[i, j] > thresh else \"black\")\n\nplt.tight_layout()\nplt.ylabel('True label')\nplt.xlabel('Predicted label')\nplt.show()\n\n# Print classification report\nprint(\"Classification Report:\\n\", classification_report(y_test, y_pred_test_labels, target_names=['Loss', 'Win']))\n\n# Plot ROC curve\nfpr, tpr, thresholds = roc_curve(y_test, y_pred_test)\nroc_auc = auc(fpr, tpr)\n\nplt.figure()\nplt.plot(fpr, tpr, color='darkorange', lw=2, label=f'ROC curve (area = {roc_auc:.2f})')\nplt.plot([0, 1], [0, 1], color='navy', lw=2, linestyle='--')\nplt.xlim([0.0, 1.0])\nplt.ylim([0.0, 1.05])\nplt.xlabel('False Positive Rate')\nplt.ylabel('True Positive Rate')\nplt.title('Receiver Operating Characteristic (ROC)')\nplt.legend(loc=\"lower right\")\nplt.show()\n-->\n",
      "metadata": {}
    },
    {
      "cell_type": "markdown",
      "source": "### Step 6: Model Saving and Loading  \n\n#### Task 6: Save and load the trained model.  \n\nThis task demonstrates the techniques to persist a trained model using `torch.save` and reload it using `torch.load`. Evaluating the loaded model ensures that it retains its performance, making it practical for deployment in real-world applications.  \n\n1. Saving the Model:\n- Save the model's learned weights and biases using torch.save().( e.g. , torch.save(model.state_dict(), 'your_model_name.pth'))\n- Saving only the state dictionary (model parameters) is preferred because it’s more flexible and efficient than saving the entire model object.\n\n2. Loading the Model:\n- Create a new model instance (e.g., `model = LogisticRegressionModel()`) and load the saved parameters. ( e.g. , `model.load_state_dict(torch.load('your_model_name.pth'))`)`.\n\n3. Evaluating the Loaded Model:\n   - After loading, set the model to evaluation mode by calling `model.eval()\n   - After loading the model, evaluate it again on the test dataset to make sure it performs similarly to when it was first trained..Now evaluate it on the test data.\n   - Use `torch.no_grad()` to ensure that no gradients are computed.\n\n#### Exercise 6:  \n\nWrite code to save the trained model and reload it. Ensure the loaded model performs consistently by evaluating it on the test dataset.  \n",
      "metadata": {}
    },
    {
      "cell_type": "code",
      "source": "## Write your code here\n# Save the model\n\n\n# Load the model\n\n\n\n# Ensure the loaded model is in evaluation mode\n\n\n\n# Evaluate the loaded model\n\n\n\n",
      "metadata": {},
      "outputs": [],
      "execution_count": null
    },
    {
      "cell_type": "markdown",
      "source": "### Step 7: Hyperparameter Tuning  \n\n#### Task 7: Perform hyperparameter tuning to find the best learning rate.  \n\nBy testing different learning rates, you will identify the optimal rate that provides the best test accuracy. This fine-tuning is crucial for enhancing model performance . \n1. Define Learning Rates:\n   - Choose these learning rates to test ,[0.01, 0.05, 0.1]\n\n2. Reinitialize the Model for Each Learning Rate:\n  - For each learning rate, you’ll need to reinitialize the model and optimizer e.g.(`torch.optim.SGD(model.parameters(), lr=lr)`).\n   - Each new learning rate requires reinitializing the model since the optimizer and its parameters are linked to the learning rate.\n\n3. Train the Model for Each Learning Rate:\n  - Train the model for a fixed number of epochs (e.g., 50 or 100 epochs) for each learning rate, and compute the accuracy on the test set.\n  - Track the test accuracy for each learning rate and identify which one yields the best performance.\n\n4. Evaluate and Compare:\n  - After training with each learning rate, compare the test accuracy for each configuration.\n   - Report the learning rate that gives the highest test accuracy\n\n#### Exercise 7:  \n\nPerform hyperparameter tuning to find the best learning rate. Retrain the model for each learning rate and evaluate its performance to identify the optimal rate.  \n",
      "metadata": {}
    },
    {
      "cell_type": "code",
      "source": "## Write your code here\n\n",
      "metadata": {},
      "outputs": [],
      "execution_count": null
    },
    {
      "cell_type": "markdown",
      "source": "### Step 8: Feature Importance  \n\n#### Task 8: Evaluate feature importance to understand the impact of each feature on the prediction.  \n\nThe code to evaluate feature importance to understand the impact of each feature on the prediction.\n\n 1.Extracting Model Weights:\n  - The weights of the logistic regression model represent the importance of each feature in making predictions. These weights are stored in the model's linear layer (`model.linear.weight`).\n - You can extract the weights using `model.linear.weight.data.numpy()` and flatten the resulting tensor to get a 1D array of feature importances.\n\n2.Creating a DataFrame:\n - Create a pandas DataFrame with two columns: one for the feature names and the other for their corresponding importance values (i.e., the learned weights).\n - Ensure the features are aligned with their names in your dataset (e.g., `X_train.columns).\n\n3. Sorting and Plotting Feature Importance:\n  - Sort the features based on the absolute value of their importance (weights) to identify the most impactful features.\n  - Use a bar plot (via `matplotlib`) to visualize the sorted feature importances, with the feature names on the y-axis and importance values on the x-axis.\n\n4. Interpreting the Results:\n  - Larger absolute weights indicate more influential features. Positive weights suggest a positive correlation with the outcome (likely to predict the positive class), while negative weights suggest the opposite.\n\n#### Exercise 8:  \n\nEvaluate feature importance by extracting the weights of the linear layer and creating a DataFrame to display the importance of each feature. Visualize the feature importance using a bar plot.  \n",
      "metadata": {}
    },
    {
      "cell_type": "code",
      "source": "## Write your code here\n\nimport pandas as pd\nimport matplotlib.pyplot as plt\n\n# Extract the weights of the linear layer\n## Write your code here\n\n# Create a DataFrame for feature importance\n## Write your code here\n\n\n\n",
      "metadata": {},
      "outputs": [],
      "execution_count": null
    },
    {
      "cell_type": "markdown",
      "source": "Double-click <b>here</b> for the Hint\n<!-- \n#Use the following code to extract the weight and create dataframe\n#Change the name of variables per your code\n\nExtract the weights of the linear layer:\nweights = model.linear.weight.data.numpy().flatten()\nfeatures = X.columns\nCreate a DataFrame for feature importance:\nfeature_importance = pd.DataFrame({'Feature': features, 'Importance': weights})\nfeature_importance = feature_importance.sort_values(by='Importance', ascending=False)\nprint(feature_importance)\nPlot feature importance plt.figure(figsize=(10, 6))\nplt.bar(feature_importance['Feature'], feature_importance['Importance'])\nplt.xlabel('Features')\nplt.ylabel('Importance')\nplt.title('Feature Importance')\nplt.xticks(rotation=45)\nplt.show()\n-->\n",
      "metadata": {}
    },
    {
      "cell_type": "markdown",
      "source": "#### Conclusion:  \n\nCongratulations on completing the project! In this final project, you built a logistic regression model to predict the outcomes of League of Legends matches based on various in-game statistics. This comprehensive project involved several key steps, including data loading and preprocessing, model implementation, training, optimization, evaluation, visualization, model saving and loading, hyperparameter tuning, and feature importance analysis. This project provided hands-on experience with the complete workflow of developing a machine learning model for binary classification tasks using PyTorch.\n\n© Copyright IBM Corporation. All rights reserved.\n",
      "metadata": {}
    },
    {
      "cell_type": "code",
      "source": "",
      "metadata": {},
      "outputs": [],
      "execution_count": null
    }
  ]
}