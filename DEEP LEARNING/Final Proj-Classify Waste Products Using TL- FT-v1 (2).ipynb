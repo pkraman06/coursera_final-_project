{
  "metadata": {
    "kernelspec": {
      "name": "python",
      "display_name": "Python (Pyodide)",
      "language": "python"
    },
    "language_info": {
      "codemirror_mode": {
        "name": "python",
        "version": 3
      },
      "file_extension": ".py",
      "mimetype": "text/x-python",
      "name": "python",
      "nbconvert_exporter": "python",
      "pygments_lexer": "ipython3",
      "version": "3.8"
    },
    "prev_pub_hash": "29fdd67f253af599c49c8436fc5847b2bdaeff3fa8db2a5ee9d681e2e55c7028"
  },
  "nbformat_minor": 4,
  "nbformat": 4,
  "cells": [
    {
      "cell_type": "markdown",
      "source": "<p style=\"text-align:center\">\n    <a href=\"https://skills.network\" target=\"_blank\">\n    <img src=\"https://cf-courses-data.s3.us.cloud-object-storage.appdomain.cloud/assets/logos/SN_web_lightmode.png\" width=\"200\" alt=\"Skills Network Logo\"  />\n    </a>\n</p>\n",
      "metadata": {}
    },
    {
      "cell_type": "markdown",
      "source": "# <a id='toc1_'></a>[**Final Project: Classify Waste Products Using Transfer Learning**](#toc0_)\n",
      "metadata": {}
    },
    {
      "cell_type": "markdown",
      "source": "**Estimated Time Needed**: 60 minutes.\n\n**Table of contents**<a id='toc0_'></a>    \n- [**Classify Waste Products Using Transfer Learning**](#toc1_)    \n  - [Introduction](#toc1_1_)    \n    - [Project Overview](#toc1_1_1_)    \n    - [Aim of the Project](#toc1_1_2_)    \n  - [Objectives](#toc1_2_)    \n    - [Tasks List](#toc1_2_1_)    \n    - [Sample Task: Sample screenshot showing code and output](#toc1_2_2_)    \n  - [Setup](#toc1_3_)    \n    - [Installing Required Libraries](#toc1_3_1_)    \n    - [Importing Required Libraries](#toc1_3_2_)    \n  - [Task 1: Print the version of tensorflow](#toc1_4_)    \n    - [Background](#toc1_5_)    \n    - [Create a model for distinguishing recyclable and organic waste images](#toc1_6_)    \n    - [Dataset](#toc1_6_1_)    \n    - [Importing Data](#toc1_6_2_)    \n    - [Define configuration options](#toc1_6_3_)    \n    - [Loading Images using ImageGeneratorClass](#toc1_6_4_)    \n      - [ImageDataGenerators](#toc1_6_4_1_)    \n  - [Task 2: Create a `test_generator` using the `test_datagen` object](#toc1_7_)    \n  - [Task 3: Print the length of the `train_generator`](#toc1_8_)    \n    - [Pre-trained Models](#toc1_8_1_)    \n      - [VGG-16](#toc1_8_1_1_)    \n  - [Task 4: Print the summary of the model](#toc1_9_)    \n  - [Task 5: Compile the model](#toc1_10_)    \n    - [Fit and train the model](#toc1_11_)    \n    - [Plot loss curves for training and validation sets (extract_feat_model)](#toc1_11_1_)    \n  - [Task 6: Plot accuracy curves for training and validation sets (extract_feat_model)](#toc1_11_2_)    \n    - [Fine-Tuning model](#toc1_12_)    \n  - [Task 7: Plot loss curves for training and validation sets (fine tune model)](#toc1_12_1_)    \n  - [Task 8: Plot accuracy curves for training and validation sets  (fine tune model)](#toc1_12_2_)    \n    - [Evaluate both models on test data](#toc1_13_)    \n  - [Task 9: Plot a test image using Extract Features Model (index_to_plot = 1)](#toc1_13_1_)    \n  - [Task 10: Plot a test image using Fine-Tuned Model (index_to_plot = 1)](#toc1_13_2_)    \n  - [Authors](#toc1_14_)    \n      \n\n## <a id='toc1_1_'></a>[Introduction](#toc0_)\nIn this project, you will classify waste products using transfer learning. \n\n### <a id='toc1_1_1_'></a>[Project Overview](#toc0_)\n\nEcoClean currently lacks an efficient and scalable method to automate the waste sorting process. The manual sorting of waste is not only labor-intensive but also prone to errors, leading to contamination of recyclable materials. The goal of this project is to leverage machine learning and computer vision to automate the classification of waste products, improving efficiency and reducing contamination rates. The project will use transfer learning with a pre-trained VGG16 model to classify images.\n\n### <a id='toc1_1_2_'></a>[Aim of the Project](#toc0_)\n\nThe aim of the project is to develop an automated waste classification model that can accurately differentiate between recyclable and organic waste based on images. By the end of this project, you will have trained, fine-tuned, and evaluated a model using transfer learning, which can then be applied to real-world waste management processes.\n\n**Final Output**: A trained model that classifies waste images into recyclable and organic categories.\n\n",
      "metadata": {}
    },
    {
      "cell_type": "markdown",
      "source": "## <a id='toc1_2_'></a>[Learning Objectives](#toc0_)\n\nAfter you complete the project, you will be able to:\n\n- Apply transfer learning using the VGG16 model for image classification.\n- Prepare and preprocess image data for a machine learning task.\n- Fine-tune a pre-trained model to improve classification accuracy.\n- Evaluate the model’s performance using appropriate metrics.\n- Visualize model predictions on test data.\n\nBy completing these objectives, you will be able to apply the techniques in real-world scenarios, such as automating waste sorting for municipal or industrial use.\n\n### <a id='toc1_2_1_'></a>[Tasks List](#toc0_)\nTo achieve the above objectives, you will complete the following tasks:\n\n- Task 1: Print the version of tensorflow\n- Task 2: Create a `test_generator` using the `test_datagen` object\n- Task 3: Print the length of the `train_generator`\n- Task 4: Print the summary of the model\n- Task 5: Compile the model\n- Task 6: Plot accuracy curves for training and validation sets (extract_feat_model)\n- Task 7: Plot loss curves for training and validation sets (fine tune model)\n- Task 8: Plot accuracy curves for training and validation sets  (fine tune model)\n- Task 9: Plot a test image using Extract Features Model (index_to_plot = 1)\n- Task 10: Plot a test image using Fine-Tuned Model (index_to_plot = 1)\n\n**Note**: For each task, take a screenshot of the code and the output and upload it in a folder with your name. \n\n### <a id='toc1_2_2_'></a>[**Sample Task: Sample screenshot showing the code and output**](#toc0_)\n\n![sample screenshot.jpg](https://cf-courses-data.s3.us.cloud-object-storage.appdomain.cloud/_WUogwC7EIGnJQUBS13ONA/sample%20screenshot.jpg)\n\n\n",
      "metadata": {}
    },
    {
      "cell_type": "markdown",
      "source": "## <a id='toc1_3_'></a>[Setup](#toc0_)\n\nFor this lab, you will be using the following libraries:\n\n*   [`numpy`](https://numpy.org/?utm_medium=Exinfluencer&utm_source=Exinfluencer&utm_content=000026UJ&utm_term=10006555&utm_id=NA-SkillsNetwork-Channel-SkillsNetworkCoursesIBMML0187ENSkillsNetwork31430127-2021-01-01) for mathematical operations.\n*   [`sklearn`](https://scikit-learn.org/stable/?utm_medium=Exinfluencer&utm_source=Exinfluencer&utm_content=000026UJ&utm_term=10006555&utm_id=NA-SkillsNetwork-Channel-SkillsNetworkCoursesIBMML0187ENSkillsNetwork31430127-2021-01-01) for machine learning and machine-learning-pipeline related functions.\n*   [`matplotlib`](https://matplotlib.org/?utm_medium=Exinfluencer&utm_source=Exinfluencer&utm_content=000026UJ&utm_term=10006555&utm_id=NA-SkillsNetwork-Channel-SkillsNetworkCoursesIBMML0187ENSkillsNetwork31430127-2021-01-01) for additional plotting tools.\n*   [`tensorflow`](https://www.tensorflow.org/?utm_medium=Exinfluencer&utm_source=Exinfluencer&utm_content=000026UJ&utm_term=10006555&utm_id=NA-SkillsNetwork-Channel-SkillsNetworkCoursesIBMML0187ENSkillsNetwork31430127-2021-01-01) for machine learning and neural network related functions.\n\n\n### <a id='toc1_3_1_'></a>[Installing Required Libraries](#toc0_)\n",
      "metadata": {}
    },
    {
      "cell_type": "code",
      "source": "!pip install tensorflow==2.17.0 | tail -n 1\n!pip install numpy==1.26.0 | tail -n 1\n!pip install scikit-learn==1.5.1  | tail -n 1\n!pip install matplotlib==3.9.2  | tail -n 1",
      "metadata": {},
      "outputs": [],
      "execution_count": null
    },
    {
      "cell_type": "markdown",
      "source": "### <a id='toc1_3_2_'></a>[Importing Required Libraries](#toc0_)\n",
      "metadata": {}
    },
    {
      "cell_type": "code",
      "source": "import numpy as np\nimport os\n# import random, shutil\nimport glob\n\n\nfrom matplotlib import pyplot as plt\nfrom matplotlib import pyplot\nfrom matplotlib.image import imread\n\n# from os import makedirs,listdir\n# from shutil import copyfile\n# from random import seed\n# from random import random\n\nos.environ['TF_CPP_MIN_LOG_LEVEL'] = '3'\n\nimport tensorflow as tf\nfrom tensorflow.keras.models import Sequential\nfrom tensorflow.keras import optimizers\nfrom tensorflow.keras.callbacks import EarlyStopping, ModelCheckpoint\n# from tensorflow.keras.layers import Conv2D, MaxPooling2D,GlobalAveragePooling2D, Input\nfrom tensorflow.keras.layers import Dense, Dropout, Flatten\nfrom tensorflow.keras.models import Sequential, Model\nfrom tensorflow.keras.preprocessing.image import ImageDataGenerator\n# from tensorflow.keras.applications import InceptionV3\nfrom sklearn import metrics\n\nimport warnings\nwarnings.filterwarnings('ignore')\n",
      "metadata": {},
      "outputs": [],
      "execution_count": null
    },
    {
      "cell_type": "markdown",
      "source": "## <a id='toc1_4_'></a>[**Task 1: Print the version of tensorflow**](#toc0_)\n\nUpload the screenshot of the version of tensorflow named tensorflow_version.png.\n\nHint: Use `tf.__version__` to print the version of tensorflow.\n",
      "metadata": {}
    },
    {
      "cell_type": "code",
      "source": "# Task 1\n",
      "metadata": {},
      "outputs": [],
      "execution_count": null
    },
    {
      "cell_type": "markdown",
      "source": "## <a id='toc1_5_'></a>[Background](#toc0_)\n\n\n**Transfer learning** uses the concept of keeping the early layers of a pre-trained network, and re-training the later layers on a specific dataset. You can leverage some state of that network on a related task.\n\nA typical transfer learning workflow in Keras looks something like this:\n\n1.  Initialize base model, and load pre-trained weights (e.g. ImageNet)\n2.  \"Freeze\" layers in the base model by setting `training = False`\n3.  Define a new model that goes on top of the output of the base model's layers.\n4.  Train resulting model on your data set.\n\n## <a id='toc1_6_'></a>[Create a model for distinguishing recyclable and organic waste images](#toc0_)\n\n### <a id='toc1_6_1_'></a>[Dataset](#toc0_)\n\nYou will be using the [Waste Classification Dataset](https://www.kaggle.com/datasets/techsash/waste-classification-data?utm_medium=Exinfluencer&utm_source=Exinfluencer&utm_content=000026UJ&utm_term=10006555&utm_id=NA-SkillsNetwork-Channel-SkillsNetworkCoursesIBMDeveloperSkillsNetworkML311Coursera35714171-2022-01-01).\n\nYour goal is to train an algorithm on these images and to predict the labels for images in your test set (1 = recyclable, 0 = organic).\n\n### <a id='toc1_6_2_'></a>[Importing Data](#toc0_)\n\nThis will create a `o-vs-r-split` directory in your environment.\n",
      "metadata": {}
    },
    {
      "cell_type": "code",
      "source": "import requests\nimport zipfile\nfrom tqdm import tqdm\n\nurl = \"https://cf-courses-data.s3.us.cloud-object-storage.appdomain.cloud/kd6057VPpABQ2FqCbgu9YQ/o-vs-r-split-reduced-1200.zip\"\nfile_name = \"o-vs-r-split-reduced-1200.zip\"\n\nprint(\"Downloading file\")\nwith requests.get(url, stream=True) as response:\n    response.raise_for_status()\n    with open(file_name, 'wb') as f:\n        for chunk in response.iter_content(chunk_size=8192):\n            f.write(chunk)\n\n\ndef extract_file_with_progress(file_name):\n    print(\"Extracting file with progress\")\n    with zipfile.ZipFile(file_name, 'r') as zip_ref:\n        members = zip_ref.infolist() \n        with tqdm(total=len(members), unit='file') as progress_bar:\n            for member in members:\n                zip_ref.extract(member)\n                progress_bar.update(1)\n    print(\"Finished extracting file\")\n\n\nextract_file_with_progress(file_name)\n\nprint(\"Finished extracting file\")\nos.remove(file_name)",
      "metadata": {},
      "outputs": [],
      "execution_count": null
    },
    {
      "cell_type": "markdown",
      "source": "### <a id='toc1_6_3_'></a>[Define configuration options](#toc0_)\n\nIt's time to define some model configuration options.\n\n*   **batch size** is set to 32.\n*   The **number of classes** is 2.\n*   You will use 20% of the data for **validation** purposes.\n*   You have two **labels** in your dataset: organic (O), recyclable (R).\n",
      "metadata": {}
    },
    {
      "cell_type": "code",
      "source": "img_rows, img_cols = 150, 150\nbatch_size = 32\nn_epochs = 10\nn_classes = 2\nval_split = 0.2\nverbosity = 1\npath = 'o-vs-r-split/train/'\npath_test = 'o-vs-r-split/test/'\ninput_shape = (img_rows, img_cols, 3)\nlabels = ['O', 'R']\nseed = 42",
      "metadata": {},
      "outputs": [],
      "execution_count": null
    },
    {
      "cell_type": "markdown",
      "source": "### <a id='toc1_6_4_'></a>[Loading Images using ImageGeneratorClass](#toc0_)\n\nTransfer learning works best when models are trained on smaller datasets. \n\nThe folder structure looks as follows:\n\n```python\no-vs-r-split/\n└── train\n    ├── O\n    └── R\n└── test\n    ├── O\n    └── R\n```\n\n\n#### <a id='toc1_6_4_1_'></a>[ImageDataGenerators](#toc0_)\n\n\nNow you will create ImageDataGenerators used for training, validation and testing.\n\nImage data generators create batches of tensor image data with real-time data augmentation. The generators loop over the data in batches and are useful in feeding data to the training process. \n\n",
      "metadata": {}
    },
    {
      "cell_type": "code",
      "source": "# Create ImageDataGenerators for training and validation and testing\ntrain_datagen = ImageDataGenerator(\n    validation_split = val_split,\n    rescale=1.0/255.0,\n\twidth_shift_range=0.1, \n    height_shift_range=0.1, \n    horizontal_flip=True\n)\n\nval_datagen = ImageDataGenerator(\n    validation_split = val_split,\n    rescale=1.0/255.0,\n)\n\ntest_datagen = ImageDataGenerator(\n    rescale=1.0/255.0\n)",
      "metadata": {},
      "outputs": [],
      "execution_count": null
    },
    {
      "cell_type": "code",
      "source": "train_generator = train_datagen.flow_from_directory(\n    directory = path,\n    seed = seed,\n    batch_size = batch_size, \n    class_mode='binary',\n    shuffle = True,\n    target_size=(img_rows, img_cols),\n    subset = 'training'\n)",
      "metadata": {},
      "outputs": [],
      "execution_count": null
    },
    {
      "cell_type": "code",
      "source": "val_generator = val_datagen.flow_from_directory(\n    directory = path,\n    seed = seed,\n    batch_size = batch_size, \n    class_mode='binary',\n    shuffle = True,\n    target_size=(img_rows, img_cols),\n    subset = 'validation'\n)",
      "metadata": {},
      "outputs": [],
      "execution_count": null
    },
    {
      "cell_type": "markdown",
      "source": "## <a id='toc1_7_'></a>[**Task 2: Create a `test_generator` using the `test_datagen` object**](#toc0_)\n\nUpload the screenshot of the code and the output of the test generator as test_generator.png.\n\nPlease use the following parameters:\n\n*   **directory** should be set to `path_test`.\n*   **class_mode** should be set to `'binary'`.\n*   **seed** should be set to `seed`.\n*   **batch_size** should be set to `batch_size`.\n*   **shuffle** should be set to `False`.\n*   **target_size** should be set to `(img_rows, img_cols)`.\n\nHint: the format should be like:\n\n```python\ntest_generator = test_datagen.flow_from_directory(\n    directory=,\n    class_mode=,\n    seed=,\n    batch_size=,\n    shuffle=,\n    target_size=\n)\n```\n",
      "metadata": {}
    },
    {
      "cell_type": "code",
      "source": "# Task 2: Create a `test_generator` using the `test_datagen` object\n",
      "metadata": {},
      "outputs": [],
      "execution_count": null
    },
    {
      "cell_type": "markdown",
      "source": "## <a id='toc1_8_'></a>[**Task 3: Print the length of the `train_generator`**](#toc0_)\n\nUpload the screenshot of the code and the output of the length of the train generator as train_generator len.png.\n\nHint: Use `len(train_generator)` to print the length of the `train_generator`.\n",
      "metadata": {}
    },
    {
      "cell_type": "code",
      "source": "# Task 3: print the length of the `train_generator`\n",
      "metadata": {},
      "outputs": [],
      "execution_count": null
    },
    {
      "cell_type": "markdown",
      "source": "Let's look at a few augmented images:\n",
      "metadata": {}
    },
    {
      "cell_type": "code",
      "source": "from pathlib import Path\n\nIMG_DIM = (100, 100)\n\ntrain_files = glob.glob('./o-vs-r-split/train/O/*')\ntrain_files = train_files[:20]\ntrain_imgs = [tf.keras.preprocessing.image.img_to_array(tf.keras.preprocessing.image.load_img(img, target_size=IMG_DIM)) for img in train_files]\ntrain_imgs = np.array(train_imgs)\ntrain_labels = [Path(fn).parent.name for fn in train_files]\n\nimg_id = 0\nO_generator = train_datagen.flow(train_imgs[img_id:img_id+1], train_labels[img_id:img_id+1],\n                                   batch_size=1)\nO = [next(O_generator) for i in range(0,5)]\nfig, ax = plt.subplots(1,5, figsize=(16, 6))\nprint('Labels:', [item[1][0] for item in O])\nl = [ax[i].imshow(O[i][0][0]) for i in range(0,5)]\n",
      "metadata": {},
      "outputs": [],
      "execution_count": null
    },
    {
      "cell_type": "markdown",
      "source": "### <a id='toc1_8_1_'></a>[Pre-trained Models](#toc0_)\n\nPre-trained models are saved networks that have previously been trained on some large datasets. They are typically used for large-scale image-classification task. They can be used as they are or could be customized to a given task using transfer learning. These pre-trained models form the basis of transfer learning.\n\n#### <a id='toc1_8_1_1_'></a>[VGG-16](#toc0_)\n\nLet us load the VGG16 model.\n",
      "metadata": {}
    },
    {
      "cell_type": "code",
      "source": "from tensorflow.keras.applications import vgg16\n\ninput_shape = (150, 150, 3)\nvgg = vgg16.VGG16(include_top=False,\n                        weights='imagenet',\n                        input_shape=input_shape)\n\n",
      "metadata": {},
      "outputs": [],
      "execution_count": null
    },
    {
      "cell_type": "markdown",
      "source": "We flatten the output of a vgg model and assign it to the model `output`, we then use a Model object `basemodel` to group the layers into an object for training and inference .\nWith the following inputs and outputs\n\ninputs: `vgg.input`\n\noutputs: `tf.keras.layers.Flatten()(output)`\n",
      "metadata": {}
    },
    {
      "cell_type": "code",
      "source": "output = vgg.layers[-1].output\noutput = tf.keras.layers.Flatten()(output)\nbasemodel = Model(vgg.input, output)",
      "metadata": {},
      "outputs": [],
      "execution_count": null
    },
    {
      "cell_type": "markdown",
      "source": "Next, you freeze the basemodel.\n",
      "metadata": {}
    },
    {
      "cell_type": "code",
      "source": "for layer in basemodel.layers: \n    layer.trainable = False",
      "metadata": {},
      "outputs": [],
      "execution_count": null
    },
    {
      "cell_type": "markdown",
      "source": "Create a new model on top. You add a Dropout layer for regularization, only these layers will change as for the lower layers you set `training=False` when calling the base model.\n",
      "metadata": {}
    },
    {
      "cell_type": "code",
      "source": "input_shape = basemodel.output_shape[1]\n\nmodel = Sequential()\nmodel.add(basemodel)\nmodel.add(Dense(512, activation='relu'))\nmodel.add(Dropout(0.3))\nmodel.add(Dense(512, activation='relu'))\nmodel.add(Dropout(0.3))\nmodel.add(Dense(1, activation='sigmoid'))",
      "metadata": {},
      "outputs": [],
      "execution_count": null
    },
    {
      "cell_type": "markdown",
      "source": "## <a id='toc1_9_'></a>[**Task 4: Print the summary of the model**](#toc0_)\n\nUpload the screenshot of the code and output of the summary of the model model_summary.png.\n\nHint: Use `model.summary()` to print the summary of the model.\n",
      "metadata": {}
    },
    {
      "cell_type": "code",
      "source": "# Task: print the summary of the model\n",
      "metadata": {},
      "outputs": [],
      "execution_count": null
    },
    {
      "cell_type": "markdown",
      "source": "## <a id='toc1_10_'></a>[**Task 5: Compile the model**](#toc0_)\n\nUpload the screenshot of the code as model_compile.png.\n\nYou will compile the model using the following parameters:\n\n*   **loss**: `'binary_crossentropy'`.\n*   **optimizer**: `optimizers.RMSprop(learning_rate=1e-4)`.\n*   **metrics**: `['accuracy']`.\n\nHint: Use `model.compile()` to compile the model:\n    \n```python\nmodel.compile(\n    loss=,\n    optimizer=,\n    metrics=\n)\n```\n",
      "metadata": {}
    },
    {
      "cell_type": "code",
      "source": "for layer in basemodel.layers: \n    layer.trainable = False\n\n# Task 5: Compile the model\n",
      "metadata": {},
      "outputs": [],
      "execution_count": null
    },
    {
      "cell_type": "markdown",
      "source": "You will use early stopping to avoid over-training the model.\n",
      "metadata": {}
    },
    {
      "cell_type": "code",
      "source": "from tensorflow.keras.callbacks import LearningRateScheduler\n\n\ncheckpoint_path='O_R_tlearn_vgg16.keras'\n\n# define step decay function\nclass LossHistory_(tf.keras.callbacks.Callback):\n    def on_train_begin(self, logs={}):\n        self.losses = []\n        self.lr = []\n        \n    def on_epoch_end(self, epoch, logs={}):\n        self.losses.append(logs.get('loss'))\n        self.lr.append(exp_decay(epoch))\n        print('lr:', exp_decay(len(self.losses)))\n\ndef exp_decay(epoch):\n    initial_lrate = 1e-4\n    k = 0.1\n    lrate = initial_lrate * np.exp(-k*epoch)\n    return lrate\n\n# learning schedule callback\nloss_history_ = LossHistory_()\nlrate_ = LearningRateScheduler(exp_decay)\n\nkeras_callbacks = [\n      EarlyStopping(monitor = 'val_loss', \n                    patience = 4, \n                    mode = 'min', \n                    min_delta=0.01),\n      ModelCheckpoint(checkpoint_path, monitor='val_loss', save_best_only=True, mode='min')\n]\n\ncallbacks_list_ = [loss_history_, lrate_] + keras_callbacks",
      "metadata": {},
      "outputs": [],
      "execution_count": null
    },
    {
      "cell_type": "markdown",
      "source": "## <a id='toc1_11_'></a>[Fit and train the model](#toc0_)\n",
      "metadata": {}
    },
    {
      "cell_type": "code",
      "source": "extract_feat_model = model.fit(train_generator, \n                               steps_per_epoch=5, \n                               epochs=10,\n                               callbacks = callbacks_list_,   \n                               validation_data=val_generator, \n                               validation_steps=val_generator.samples // batch_size, \n                               verbose=1)",
      "metadata": {},
      "outputs": [],
      "execution_count": null
    },
    {
      "cell_type": "markdown",
      "source": "### <a id='toc1_11_1_'></a>[Plot loss curves for training and validation sets (extract_feat_model)](#toc0_)\n",
      "metadata": {}
    },
    {
      "cell_type": "code",
      "source": "import matplotlib.pyplot as plt\n\nhistory = extract_feat_model\n\n# plot loss curve\nplt.figure(figsize=(5, 5))\nplt.plot(history.history['loss'], label='Training Loss')\nplt.plot(history.history['val_loss'], label='Validation Loss')\nplt.title('Loss Curve')\nplt.xlabel('Epochs')\nplt.ylabel('Loss')\nplt.legend()\n\nplt.show()",
      "metadata": {},
      "outputs": [],
      "execution_count": null
    },
    {
      "cell_type": "markdown",
      "source": "### <a id='toc1_11_2_'></a>[**Task 6: Plot accuracy curves for training and validation sets (extract_feat_model)**](#toc0_)\n\nUpload the screenshot of the code and the output of the plot accuracy curve as plot_accuracy_curve.png.\n\nHint: Similar to the loss curves. Use `plt.plot()` to plot the accuracy curves for training and validation sets.\n\n- `figsize=(5, 5)`\n- `plt.plot(history.history['accuracy'], label='Training Accuracy')`\n- `plt.plot(history.history['val_accuracy'], label='Validation Accuracy')`\n- **Title**: `'Accuracy Curve'`\n- **xlabel**: `'Epochs'`\n- **ylabel**: `'Accuracy'`\n\n**NOTE**: As training is a stochastic process, the loss and accuracy graphs may differ across runs. As long as the general trend shows decreasing loss and increasing accuracy, the model is performing as expected and full marks will be awarded for the task.\n",
      "metadata": {}
    },
    {
      "cell_type": "code",
      "source": "import matplotlib.pyplot as plt\n\nhistory = extract_feat_model\n## Task 6: Plot accuracy curves for training and validation sets\n",
      "metadata": {},
      "outputs": [],
      "execution_count": null
    },
    {
      "cell_type": "markdown",
      "source": "## <a id='toc1_12_'></a>[Fine-Tuning model](#toc0_)\n\nFine-tuning is an optional step in transfer learning, it usually ends up improving the performance of the model. \n\nYou will **unfreeze** one layer from the base model and train the model again.\n",
      "metadata": {}
    },
    {
      "cell_type": "code",
      "source": "from tensorflow.keras.applications import vgg16\n\ninput_shape = (150, 150, 3)\nvgg = vgg16.VGG16(include_top=False,\n                        weights='imagenet',\n                        input_shape=input_shape)\n\noutput = vgg.layers[-1].output\noutput = tf.keras.layers.Flatten()(output)\nbasemodel = Model(vgg.input, output)\n\nfor layer in basemodel.layers: \n    layer.trainable = False\n\ndisplay([layer.name for layer in basemodel.layers])\n\nset_trainable = False\n\nfor layer in basemodel.layers:\n    if layer.name in ['block5_conv3']:\n        set_trainable = True\n    if set_trainable:\n        layer.trainable = True\n    else:\n        layer.trainable = False\n\nfor layer in basemodel.layers:\n    print(f\"{layer.name}: {layer.trainable}\")",
      "metadata": {},
      "outputs": [],
      "execution_count": null
    },
    {
      "cell_type": "markdown",
      "source": "Similar to what you did before, you will create a new model on top, and add a Dropout layer for regularization.\n",
      "metadata": {}
    },
    {
      "cell_type": "code",
      "source": "model = Sequential()\nmodel.add(basemodel)\nmodel.add(Dense(512, activation='relu'))\nmodel.add(Dropout(0.3))\nmodel.add(Dense(512, activation='relu'))\nmodel.add(Dropout(0.3))\nmodel.add(Dense(1, activation='sigmoid'))\n\ncheckpoint_path='O_R_tlearn_fine_tune_vgg16.keras'\n\n# learning schedule callback\nloss_history_ = LossHistory_()\nlrate_ = LearningRateScheduler(exp_decay)\n\nkeras_callbacks = [\n      EarlyStopping(monitor = 'val_loss', \n                    patience = 4, \n                    mode = 'min', \n                    min_delta=0.01),\n      ModelCheckpoint(checkpoint_path, monitor='val_loss', save_best_only=True, mode='min')\n]\n\ncallbacks_list_ = [loss_history_, lrate_] + keras_callbacks\n\nmodel.compile(loss='binary_crossentropy',\n              optimizer=optimizers.RMSprop(learning_rate=1e-4),\n              metrics=['accuracy'])\n\nfine_tune_model = model.fit(train_generator, \n                    steps_per_epoch=5, \n                    epochs=10,\n                    callbacks = callbacks_list_,   \n                    validation_data=val_generator, \n                    validation_steps=val_generator.samples // batch_size, \n                    verbose=1)",
      "metadata": {},
      "outputs": [],
      "execution_count": null
    },
    {
      "cell_type": "markdown",
      "source": "### <a id='toc1_12_1_'></a>[**Task 7: Plot loss curves for training and validation sets (fine tune model)**](#toc0_)\n\nUpload the screenshot of the code and the output of the plot loss curves as plot_loss_curve.png.\n\nHint: Use `plt.plot()` to plot the loss curves for training and validation sets.\n - `history = fine_tune_model`\n- `figsize=(5, 5)`\n- `plt.plot(history.history['loss'], label='Training Loss')`\n- `plt.plot(history.history['val_loss'], label='Validation Loss')`\n- **Title**: `'Loss Curve'`\n- **xlabel**: `'Epochs'`\n- **ylabel**: `'Loss'`\n\n**NOTE**: As training is a stochastic process, the loss and accuracy graphs may differ across runs. As long as the general trend shows decreasing loss and increasing accuracy, the model is performing as expected and full marks will be awarded for the task.\n",
      "metadata": {}
    },
    {
      "cell_type": "code",
      "source": "history = fine_tune_model\n\n## Task 7: Plot loss curves for training and validation sets (fine tune model)\n",
      "metadata": {},
      "outputs": [],
      "execution_count": null
    },
    {
      "cell_type": "markdown",
      "source": "### <a id='toc1_12_2_'></a>[**Task 8: Plot accuracy curves for training and validation sets  (fine tune model)**](#toc0_)\n\nUpload the screenshot of the code and the plot accuracy curve for the fine-tune model as plot_finetune_model.png.\n\nHint: Similar to the loss curves. Use `plt.plot()` to plot the accuracy curves for training and validation sets.\n- `history = fine_tune_model`\n- `figsize=(5, 5)`\n- `plt.plot(history.history['accuracy'], label='Training Accuracy')`\n- `plt.plot(history.history['val_accuracy'], label='Validation Accuracy')`\n- **Title**: `'Accuracy Curve'`\n- **xlabel**: `'Epochs'`\n- **ylabel**: `'Accuracy'`\n\n**NOTE**: As training is a stochastic process, the loss and accuracy graphs may differ across runs. As long as the general trend shows decreasing loss and increasing accuracy, the model is performing as expected and full marks will be awarded for the task.\n",
      "metadata": {}
    },
    {
      "cell_type": "code",
      "source": "history = fine_tune_model\n\n# Task 8: Plot accuracy curves for training and validation sets  (fine tune model)\n",
      "metadata": {},
      "outputs": [],
      "execution_count": null
    },
    {
      "cell_type": "markdown",
      "source": "## <a id='toc1_13_'></a>[Evaluate both models on test data](#toc0_)\n\n- Load saved models\n- Load test images\n- Make predictions for both models\n- Convert predictions to class labels\n- Print classification report for both models\n",
      "metadata": {}
    },
    {
      "cell_type": "code",
      "source": "from pathlib import Path\n\n# Load saved models\nextract_feat_model = tf.keras.models.load_model('O_R_tlearn_vgg16.keras')\nfine_tune_model = tf.keras.models.load_model('O_R_tlearn_fine_tune_vgg16.keras')\n\nIMG_DIM = (150, 150)\n\n# Load test images\ntest_files_O = glob.glob('./o-vs-r-split/test/O/*')\ntest_files_R = glob.glob('./o-vs-r-split/test/R/*')\ntest_files = test_files_O[:50] + test_files_R[:50]\n\ntest_imgs = [tf.keras.preprocessing.image.img_to_array(tf.keras.preprocessing.image.load_img(img, target_size=IMG_DIM)) for img in test_files]\ntest_imgs = np.array(test_imgs)\ntest_labels = [Path(fn).parent.name for fn in test_files]\n\n# Standardize\ntest_imgs_scaled = test_imgs.astype('float32')\ntest_imgs_scaled /= 255\n\nclass2num_lt = lambda l: [0 if x == 'O' else 1 for x in l]\nnum2class_lt = lambda l: ['O' if x < 0.5 else 'R' for x in l]\n\ntest_labels_enc = class2num_lt(test_labels)\n\n# Make predictions for both models\npredictions_extract_feat_model = extract_feat_model.predict(test_imgs_scaled, verbose=0)\npredictions_fine_tune_model = fine_tune_model.predict(test_imgs_scaled, verbose=0)\n\n# Convert predictions to class labels\npredictions_extract_feat_model = num2class_lt(predictions_extract_feat_model)\npredictions_fine_tune_model = num2class_lt(predictions_fine_tune_model)\n\n# Print classification report for both models\nprint('Extract Features Model')\nprint(metrics.classification_report(test_labels, predictions_extract_feat_model))\nprint('Fine-Tuned Model')\nprint(metrics.classification_report(test_labels, predictions_fine_tune_model))\n",
      "metadata": {},
      "outputs": [],
      "execution_count": null
    },
    {
      "cell_type": "code",
      "source": "# Plot one of the images with actual label and predicted label as title\ndef plot_image_with_title(image, model_name, actual_label, predicted_label):\n    plt.imshow(image)\n    plt.title(f\"Model: {model_name}, Actual: {actual_label}, Predicted: {predicted_label}\")\n    plt.axis('off')\n    plt.show()\n\n# Specify index of image to plot, for example index 0\nindex_to_plot = 0\nplot_image_with_title(\n    image=test_imgs[index_to_plot].astype('uint8'),\n    model_name='Extract Features Model',\n    actual_label=test_labels[index_to_plot], \n    predicted_label=predictions_extract_feat_model[index_to_plot],\n    )",
      "metadata": {},
      "outputs": [],
      "execution_count": null
    },
    {
      "cell_type": "markdown",
      "source": "### <a id='toc1_13_1_'></a>[**Task 9: Plot a test image using Extract Features Model (index_to_plot = 1)**](#toc0_)\n\nUpload the screenshot of the code and the extract features model as extract_features_model.png.\n\nInstructions:\n\n- Use `plot_image_with_title` function.\n- `index_to_plot = 1`\n- `model_name='Extract Features Model'`\n- `predicted_label=predictions_extract_feat_model[index_to_plot]`\n\nHint: Follow the same format as previous plots.\n\n**NOTE**: Due to the inherent nature of neural networks, predictions may vary from the actual labels. For instance, if the actual label is ‘O’, the prediction could be either ‘O’ or ‘R’, both of which are possible outcomes, and full marks will be awarded for the task. \n",
      "metadata": {}
    },
    {
      "cell_type": "code",
      "source": "# Task 9: Plot a test image using Extract Features Model (index_to_plot = 1)\n",
      "metadata": {},
      "outputs": [],
      "execution_count": null
    },
    {
      "cell_type": "markdown",
      "source": "### <a id='toc1_13_2_'></a>[**Task 10: Plot a test image using Fine-Tuned Model (index_to_plot = 1)**](#toc0_)\n\nUpload the screenshot of the code and the fine-tuned model as finetuned_model.png.\n\nInstructions:\n\n- Use `plot_image_with_title` function.\n- `index_to_plot = 1`\n- `model_name='Fine-Tuned Model'`\n- `predicted_label=predictions_fine_tune_model[index_to_plot]`\n\nHint: follow the same format as previous plots.\n\n**NOTE**: Due to the inherent nature of neural networks, predictions may vary from the actual labels. For instance, if the actual label is ‘O’, the prediction could be either ‘O’ or ‘R’, both of which are possible outcomes, and full marks will be awarded for the task. \n",
      "metadata": {}
    },
    {
      "cell_type": "code",
      "source": "# Task 10: Plot a test image using Fine-Tuned Model (index_to_plot = 1)\n",
      "metadata": {},
      "outputs": [],
      "execution_count": null
    },
    {
      "cell_type": "markdown",
      "source": "## <a id='toc1_14_'></a>[Author](#toc0_)\n\nCopyright © IBM Corporation. All rights reserved.\n",
      "metadata": {}
    }
  ]
}